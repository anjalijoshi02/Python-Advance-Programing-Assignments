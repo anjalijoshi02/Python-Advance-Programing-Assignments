{
 "cells": [
  {
   "cell_type": "markdown",
   "id": "5fb123a1",
   "metadata": {},
   "source": [
    "# Python Advance programming-2"
   ]
  },
  {
   "cell_type": "markdown",
   "id": "10e413ed",
   "metadata": {},
   "source": [
    "#### Question 1:Write a function that takes a positive integer num and calculates how many dots exist in a pentagonal shape around the center dot on the Nth iteration"
   ]
  },
  {
   "cell_type": "code",
   "execution_count": 1,
   "id": "15dd8a28",
   "metadata": {},
   "outputs": [
    {
     "name": "stdout",
     "output_type": "stream",
     "text": [
      "pentagonal(1) ➞ 1\n",
      "pentagonal(2) ➞ 6\n",
      "pentagonal(3) ➞ 16\n",
      "pentagonal(8) ➞ 141\n"
     ]
    }
   ],
   "source": [
    "def pentagonal(num):\n",
    "    rseult = 1\n",
    "    if num >=1:\n",
    "        for i in range(num):\n",
    "            rseult = rseult + (5*i)\n",
    "        print(f'pentagonal({num}) ➞ {rseult}')\n",
    "    else:\n",
    "        print(\"Enter a Positive Number as Input\")\n",
    "        \n",
    "pentagonal(1) \n",
    "pentagonal(2)\n",
    "pentagonal(3)\n",
    "pentagonal(8)"
   ]
  },
  {
   "cell_type": "markdown",
   "id": "6f70b9cc",
   "metadata": {},
   "source": [
    "#### Question 2: Make a function that encrypts a given input with these steps:\n",
    "nput: \"apple\"         \n",
    "Step 1: Reverse the input: \"elppa\"          \n",
    "Step 2: Replace all vowels using the following chart:          \n",
    "a => 0      \n",
    "e => 1       \n",
    "i => 2          \n",
    "o => 2          \n",
    "u => 3          \n",
    "#\"1lpp0\"          \n",
    "Step 3: Add \"aca\" to the end of the word: \"1lpp0aca\"          \n",
    "Output: \"1lpp0aca\"       "
   ]
  },
  {
   "cell_type": "code",
   "execution_count": 2,
   "id": "d08aedc2",
   "metadata": {},
   "outputs": [
    {
     "name": "stdout",
     "output_type": "stream",
     "text": [
      "encrypt(banana)-> 0n0n0baca\n",
      "encrypt(karaca)-> 0c0r0kaca\n",
      "encrypt(burak)-> k0r3baca\n",
      "encrypt(alpaca)-> 0c0pl0aca\n"
     ]
    }
   ],
   "source": [
    "def encrypt(string):\n",
    "    dic={'a':0,'e':1,'i':2,'o':2,'u':3}\n",
    "    vowel=['a','e','i','o','u']\n",
    "    result=''\n",
    "    for i in string:\n",
    "        if i in vowel:\n",
    "            result+=str(dic[i])\n",
    "        else:\n",
    "            result+=str(i)\n",
    "    result=result[::-1]+'aca'\n",
    "    print(f'encrypt({string})-> {result}')\n",
    "encrypt(\"banana\")\n",
    "encrypt(\"karaca\")\n",
    "encrypt(\"burak\")\n",
    "encrypt(\"alpaca\")"
   ]
  },
  {
   "cell_type": "markdown",
   "id": "d25f3e13",
   "metadata": {},
   "source": [
    "#### Question 3: Given the month and year as numbers, return whether that month contains a Friday 13th.(i.e You can check Python's datetime module)"
   ]
  },
  {
   "cell_type": "code",
   "execution_count": 3,
   "id": "6770e579",
   "metadata": {},
   "outputs": [
    {
     "name": "stdout",
     "output_type": "stream",
     "text": [
      "has_friday_13(3, 2020) ➞ True\n",
      "has_friday_13(10, 2017) ➞ True\n",
      "has_friday_13(1, 1985) ➞ False\n"
     ]
    }
   ],
   "source": [
    "import datetime\n",
    "def has_friday_13(month,year):\n",
    "    result = False\n",
    "    if datetime.datetime(year,month,13).strftime('%A') == 'Friday':\n",
    "        result = True\n",
    "    print(f'has_friday_13{month,year} ➞ {result}')\n",
    "\n",
    "has_friday_13(3, 2020)\n",
    "has_friday_13(10, 2017)\n",
    "has_friday_13(1, 1985)"
   ]
  },
  {
   "cell_type": "markdown",
   "id": "f63f8e46",
   "metadata": {},
   "source": [
    "#### Question 4: Write a regular expression that will help us count how many bad cookies are produced every day. You must use RegEx negative lookbehind."
   ]
  },
  {
   "cell_type": "code",
   "execution_count": 4,
   "id": "fbdd172c",
   "metadata": {},
   "outputs": [
    {
     "name": "stdout",
     "output_type": "stream",
     "text": [
      "No of Bad cookies produced per day ➞ 2\n"
     ]
    }
   ],
   "source": [
    "import re\n",
    "lst = [\"bad cookie\", \"good cookie\", \"bad cookie\", \"good cookie\", \"good cookie\"]\n",
    "pattern = r'(?<!good)\\scookie'# Regex Negative lookbehind expression\n",
    "data = re.findall(pattern,' '.join(lst))\n",
    "print(f'No of Bad cookies produced per day ➞ {len(data)}')"
   ]
  },
  {
   "cell_type": "markdown",
   "id": "f8b07fd6",
   "metadata": {},
   "source": [
    "#### Question 5: Given a list of words in the singular form, return a set of those words in the plural form if they appear more than once in the list."
   ]
  },
  {
   "cell_type": "code",
   "execution_count": 5,
   "id": "9e1d87c0",
   "metadata": {},
   "outputs": [
    {
     "name": "stdout",
     "output_type": "stream",
     "text": [
      "pluralize(['cow', 'pig', 'cow', 'cow'])  ➞ {'cows', 'pig'}\n",
      "pluralize(['table', 'table', 'table'])  ➞ {'tables'}\n",
      "pluralize(['chair', 'pencil', 'arm'])  ➞ {'arm', 'pencil', 'chair'}\n"
     ]
    }
   ],
   "source": [
    "def pluralize(lst):\n",
    "    result = set()\n",
    "    for i in set(lst):\n",
    "        if lst.count(i) > 1:\n",
    "            result.add(i+'s')\n",
    "        else:\n",
    "            result.add(i)\n",
    "    print(f'pluralize({lst})  ➞ {result}')\n",
    "    \n",
    "pluralize([\"cow\", \"pig\", \"cow\", \"cow\"])\n",
    "pluralize([\"table\", \"table\", \"table\"])\n",
    "pluralize([\"chair\", \"pencil\", \"arm\"]) "
   ]
  },
  {
   "cell_type": "code",
   "execution_count": null,
   "id": "d16532d2",
   "metadata": {},
   "outputs": [],
   "source": []
  }
 ],
 "metadata": {
  "kernelspec": {
   "display_name": "Python 3 (ipykernel)",
   "language": "python",
   "name": "python3"
  },
  "language_info": {
   "codemirror_mode": {
    "name": "ipython",
    "version": 3
   },
   "file_extension": ".py",
   "mimetype": "text/x-python",
   "name": "python",
   "nbconvert_exporter": "python",
   "pygments_lexer": "ipython3",
   "version": "3.9.7"
  }
 },
 "nbformat": 4,
 "nbformat_minor": 5
}
