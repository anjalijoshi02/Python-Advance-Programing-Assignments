{
 "cells": [
  {
   "cell_type": "markdown",
   "id": "97b18ebe",
   "metadata": {},
   "source": [
    "# Python Advance Programming 14"
   ]
  },
  {
   "cell_type": "markdown",
   "id": "23bdcc16",
   "metadata": {},
   "source": [
    "#### Question 1: Given a list of numbers, create a function that removes 25% from every number in the list except the smallest number, and adds the total amount removed to the smallest number.\n"
   ]
  },
  {
   "cell_type": "code",
   "execution_count": 1,
   "id": "7323becf",
   "metadata": {},
   "outputs": [
    {
     "name": "stdout",
     "output_type": "stream",
     "text": [
      "show_the_love([4, 1, 4]) ➞ [3.0, 3.0, 3.0]\n",
      "show_the_love([16, 10, 8]) ➞ [12.0, 7.5, 14.5]\n",
      "show_the_love([2, 100]) ➞ [27.0, 75.0]\n"
     ]
    }
   ],
   "source": [
    "def show_the_love(lst):\n",
    "    output = lst.copy()\n",
    "    sum = 0\n",
    "    for i in range(len(output)):\n",
    "        if output[i] is not min(output):\n",
    "            sum += output[i]/4\n",
    "            output[i] =  output[i]-(output[i]/4)\n",
    "    output[output.index(min(output))] = sum +min(output)\n",
    "    print(f'show_the_love({lst}) ➞ {output}')\n",
    "            \n",
    "show_the_love([4, 1, 4])\n",
    "show_the_love([16, 10, 8])\n",
    "show_the_love([2, 100])"
   ]
  },
  {
   "cell_type": "markdown",
   "id": "d95c2201",
   "metadata": {},
   "source": [
    "#### Question 2:Create a function that takes in two words as input and returns a list of three elements, in the following order:  \n",
    "1.Shared letters between two words.               \n",
    "2.Letters unique to word 1.            \n",
    "3.Letters unique to word 2.           \n",
    "Each element should have unique letters, and have each letter be alphabetically sorted."
   ]
  },
  {
   "cell_type": "code",
   "execution_count": 2,
   "id": "f94ebdee",
   "metadata": {},
   "outputs": [
    {
     "name": "stdout",
     "output_type": "stream",
     "text": [
      "letters('sharp', 'soap') ➞ ['aps', 'hr', 'o']\n",
      "letters('board', 'bored') ➞ ['bdor', 'a', 'e']\n",
      "letters('happiness', 'envelope') ➞ ['enp', 'ahis', 'lov']\n",
      "letters('kerfuffle', 'fluffy') ➞ ['flu', 'ekr', 'y']\n",
      "letters('match', 'ham') ➞ ['ahm', 'ct', '']\n"
     ]
    }
   ],
   "source": [
    "def letters(str1,str2):\n",
    "    str1_set = set(str1)\n",
    "    str2_set = set(str2)\n",
    "    result = []\n",
    "    result.append(''.join(sorted(str1_set.intersection(str2_set))))\n",
    "    result.append(''.join(sorted(str1_set.difference(str2_set))))\n",
    "    result.append(''.join(sorted(str2_set.difference(str1_set)))) \n",
    "    print(f'letters{str1,str2} ➞ {result}')\n",
    "    \n",
    "letters(\"sharp\", \"soap\")\n",
    "letters(\"board\", \"bored\")\n",
    "letters(\"happiness\", \"envelope\")\n",
    "letters(\"kerfuffle\", \"fluffy\")\n",
    "letters(\"match\", \"ham\")"
   ]
  },
  {
   "cell_type": "markdown",
   "id": "4ca6dfa3",
   "metadata": {},
   "source": [
    "#### Question 3: Write a function that pairs the first number in an array with the last, the second number with the second to last, etc."
   ]
  },
  {
   "cell_type": "code",
   "execution_count": 3,
   "id": "77173836",
   "metadata": {},
   "outputs": [
    {
     "name": "stdout",
     "output_type": "stream",
     "text": [
      "pairs([1, 2, 3, 4, 5, 6, 7]) ➞ [[1, 7], [2, 6], [3, 5], [4, 4]]\n",
      "pairs([1, 2, 3, 4, 5, 6]) ➞ [[1, 6], [2, 5], [3, 4]]\n",
      "pairs([5, 9, 8, 1, 2]) ➞ [[5, 2], [9, 1], [8, 8]]\n",
      "pairs([]) ➞ []\n"
     ]
    }
   ],
   "source": [
    "def pairs(lst):\n",
    "    list1 = lst.copy()\n",
    "    output = []\n",
    "    while True:\n",
    "        if len(lst) > 0:\n",
    "            if len(lst) == 1:\n",
    "                output.append([lst[0],lst.pop(0)])\n",
    "            else:\n",
    "                output.append([lst.pop(0),lst.pop(-1)])\n",
    "        else:\n",
    "            break\n",
    "    print(f'pairs({list1}) ➞ {output}')\n",
    "            \n",
    "pairs([1, 2, 3, 4, 5, 6, 7])\n",
    "pairs([1, 2, 3, 4, 5, 6])\n",
    "pairs([5, 9, 8, 1, 2])\n",
    "pairs([])"
   ]
  },
  {
   "cell_type": "markdown",
   "id": "cd3f2b9c",
   "metadata": {},
   "source": [
    "#### Question 4:Write a function that adds two numbers. The catch, however, is that the numbers will be strings."
   ]
  },
  {
   "cell_type": "code",
   "execution_count": 4,
   "id": "4adf7314",
   "metadata": {},
   "outputs": [
    {
     "name": "stdout",
     "output_type": "stream",
     "text": [
      "add_str_nums('4', '5') ➞ 9\n",
      "add_str_nums('abcdefg', '3') ➞ -1\n",
      "add_str_nums('1', '0') ➞ 1\n",
      "add_str_nums('1874682736267235927359283579235789257', '32652983572985729') ➞ 1874682736267235927391936562808774986\n"
     ]
    }
   ],
   "source": [
    "def add_str_nums(str1,str2):\n",
    "    str1 = str1 if len(str1) > 0 else \"0\"\n",
    "    str2 = str2 if len(str2) > 0 else \"0\"\n",
    "    if str1.isdigit() == False or str2.isdigit() == False:\n",
    "        output = -1\n",
    "    else: \n",
    "        output = int(str1)+int(str2)\n",
    "    print(f'add_str_nums{str1,str2} ➞ {str(output)}')\n",
    "        \n",
    "add_str_nums(\"4\", \"5\")\n",
    "add_str_nums(\"abcdefg\", \"3\")\n",
    "add_str_nums(\"1\", \"\")\n",
    "add_str_nums(\"1874682736267235927359283579235789257\", \"32652983572985729\")"
   ]
  },
  {
   "cell_type": "markdown",
   "id": "59462999",
   "metadata": {},
   "source": [
    "#### Question  5:  lPaeesh le pemu mnxit ehess rtnisg! Oh, sorry, that was supposed to say: Please help me unmix these strings! Somehow my strings have all become mixed up; every pair of characters has been swapped. Help me undo this so I can understand my strings again."
   ]
  },
  {
   "cell_type": "code",
   "execution_count": 5,
   "id": "a9340db6",
   "metadata": {},
   "outputs": [
    {
     "name": "stdout",
     "output_type": "stream",
     "text": [
      "unmix(123456) ➞ 214365\n",
      "unmix(hTsii  s aimex dpus rtni.g) ➞ This is a mixed up string.\n",
      "unmix(badce) ➞ abcde\n"
     ]
    }
   ],
   "source": [
    "def unmix(string):\n",
    "    output = ''\n",
    "    for i in range(0,len(string)-1,2):\n",
    "        output += string[i+1]+string[i]\n",
    "        if (len(string)%2 != 0 and i == len(string)//2 ):\n",
    "            output += string[-1]       \n",
    "    print(f'unmix({string}) ➞ {output}')\n",
    "\n",
    "unmix(\"123456\")\n",
    "unmix(\"hTsii  s aimex dpus rtni.g\")\n",
    "unmix(\"badce\")"
   ]
  }
 ],
 "metadata": {
  "kernelspec": {
   "display_name": "Python 3 (ipykernel)",
   "language": "python",
   "name": "python3"
  },
  "language_info": {
   "codemirror_mode": {
    "name": "ipython",
    "version": 3
   },
   "file_extension": ".py",
   "mimetype": "text/x-python",
   "name": "python",
   "nbconvert_exporter": "python",
   "pygments_lexer": "ipython3",
   "version": "3.9.7"
  }
 },
 "nbformat": 4,
 "nbformat_minor": 5
}
