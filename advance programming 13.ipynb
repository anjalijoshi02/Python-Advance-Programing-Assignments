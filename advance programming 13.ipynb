{
 "cells": [
  {
   "cell_type": "markdown",
   "id": "78067c8e",
   "metadata": {},
   "source": [
    "# Python Advance Programming 13"
   ]
  },
  {
   "cell_type": "markdown",
   "id": "3c934395",
   "metadata": {},
   "source": [
    "#### Question 1:Create a function that takes a list and string. The function should remove the letters in the string from the list, and return the list."
   ]
  },
  {
   "cell_type": "code",
   "execution_count": 1,
   "id": "27ab7023",
   "metadata": {},
   "outputs": [
    {
     "name": "stdout",
     "output_type": "stream",
     "text": [
      "remove_letters(['s', 't', 'r', 'i', 'n', 'g', 'w'], 'string') ➞['w']\n",
      "remove_letters(['b', 'b', 'l', 'l', 'g', 'n', 'o', 'a', 'w'], 'balloon') ➞['g', 'w']\n",
      "remove_letters(['d', 'b', 't', 'e', 'a', 'i'], 'edabit') ➞[]\n"
     ]
    }
   ],
   "source": [
    "def remove_letters(lst,string):\n",
    "    output=[]\n",
    "    for i in lst:\n",
    "        if i not in string:\n",
    "            output.append(i)\n",
    "    print(f'remove_letters{lst,string} ➞{output}')\n",
    "remove_letters([\"s\", \"t\", \"r\", \"i\", \"n\", \"g\", \"w\"], \"string\")\n",
    "remove_letters([\"b\", \"b\", \"l\", \"l\", \"g\", \"n\", \"o\", \"a\", \"w\"], \"balloon\")\n",
    "remove_letters([\"d\", \"b\", \"t\", \"e\", \"a\", \"i\"], \"edabit\")            \n",
    "    "
   ]
  },
  {
   "cell_type": "markdown",
   "id": "f8f809cb",
   "metadata": {},
   "source": [
    "#### Question 2:A block sequence in three dimensions. We can write a formula for this one. Create a function that takes a number (step) as an argument and returns the amount of blocks in that step."
   ]
  },
  {
   "cell_type": "code",
   "execution_count": 2,
   "id": "ec426732",
   "metadata": {},
   "outputs": [
    {
     "name": "stdout",
     "output_type": "stream",
     "text": [
      "blocks(1) ➞ 5\n",
      "blocks(5) ➞ 39\n",
      "blocks(2) ➞ 12\n"
     ]
    }
   ],
   "source": [
    "def blocks(num):\n",
    "    depth = num*3+((num)-1)*1\n",
    "    height = [x for x in range(2,num+2)]\n",
    "    print(f'blocks({num}) ➞ {depth+sum(height)}')\n",
    "        \n",
    "blocks(1)\n",
    "blocks(5)\n",
    "blocks(2)"
   ]
  },
  {
   "cell_type": "markdown",
   "id": "5a78348c",
   "metadata": {},
   "source": [
    "#### Question 3: Create a function that subtracts one positive integer from another, without using any arithmetic operators such as -, %, /, +, etc."
   ]
  },
  {
   "cell_type": "code",
   "execution_count": 3,
   "id": "fb5f3da4",
   "metadata": {},
   "outputs": [
    {
     "name": "stdout",
     "output_type": "stream",
     "text": [
      "my_sub(5, 9) ➞ 4\n",
      "my_sub(10, 30) ➞ 20\n",
      "my_sub(0, 0) ➞ 0\n"
     ]
    }
   ],
   "source": [
    "from operator import sub\n",
    "def my_sub(num1,num2):\n",
    "    output = sub(num1,num2) if num1 >= num2 else sub(num2,num1)\n",
    "    print(f'my_sub{num1,num2} ➞ {output}')\n",
    "my_sub(5, 9)\n",
    "my_sub(10, 30)\n",
    "my_sub(0, 0)"
   ]
  },
  {
   "cell_type": "markdown",
   "id": "2ba3e69d",
   "metadata": {},
   "source": [
    "#### Question 4: Create a function that takes a string containing money in dollars and pounds sterling (seperated by comma) and returns the sum of dollar bills only, as an integer."
   ]
  },
  {
   "cell_type": "code",
   "execution_count": 4,
   "id": "98c37314",
   "metadata": {},
   "outputs": [
    {
     "name": "stdout",
     "output_type": "stream",
     "text": [
      "add_bill(d20,p40,p60,d50) ➞ 70\n",
      "add_bill(p30,d20,p60,d150,p360) ➞ 170\n",
      "add_bill(p30,d2k,p60,d200,p360) ➞ 2200\n"
     ]
    }
   ],
   "source": [
    "def add_bill(string):\n",
    "    l=string.split(',')\n",
    "    sum=0\n",
    "    for i in range(len(l)):\n",
    "        if l[i][0]=='d':\n",
    "            if 'k' in l[i]:\n",
    "                sum += int(l[i].replace('d','').replace('k',''))*1000                \n",
    "            else:\n",
    "                sum+= int(l[i].replace(\"d\",''))\n",
    "    print(f'add_bill({string}) ➞ {sum}')\n",
    "    \n",
    "add_bill(\"d20,p40,p60,d50\")\n",
    "add_bill(\"p30,d20,p60,d150,p360\")\n",
    "add_bill(\"p30,d2k,p60,d200,p360\")"
   ]
  },
  {
   "cell_type": "markdown",
   "id": "bf3fda08",
   "metadata": {},
   "source": [
    "#### Question 5: Create a function that flips a horizontal list into a vertical list, and a vertical list into a horizontal list. In other words, take an 1 x n list (1 row + n columns) and flip it into a n x 1 list (n rows and 1 column), and vice versa."
   ]
  },
  {
   "cell_type": "code",
   "execution_count": 5,
   "id": "c49efbe7",
   "metadata": {},
   "outputs": [
    {
     "name": "stdout",
     "output_type": "stream",
     "text": [
      "flip_list([1, 2, 3, 4]) ➞ [[1], [2], [3], [4]]\n",
      "flip_list([[5], [6], [9]]) ➞ [5, 6, 9]\n",
      "flip_list([]) ➞ []\n"
     ]
    }
   ],
   "source": [
    "def flip_list(lst):\n",
    "    if len(lst) > 0:\n",
    "        output = [i[0] for i in lst] if isinstance(lst[0],list) else [[i] for i in lst]\n",
    "    else:\n",
    "        output = []\n",
    "    print(f'flip_list({lst}) ➞ {output}')\n",
    "        \n",
    "flip_list([1,2,3,4]) \n",
    "flip_list([[5],[6],[9]])\n",
    "flip_list([])"
   ]
  }
 ],
 "metadata": {
  "kernelspec": {
   "display_name": "Python 3 (ipykernel)",
   "language": "python",
   "name": "python3"
  },
  "language_info": {
   "codemirror_mode": {
    "name": "ipython",
    "version": 3
   },
   "file_extension": ".py",
   "mimetype": "text/x-python",
   "name": "python",
   "nbconvert_exporter": "python",
   "pygments_lexer": "ipython3",
   "version": "3.9.12"
  }
 },
 "nbformat": 4,
 "nbformat_minor": 5
}
