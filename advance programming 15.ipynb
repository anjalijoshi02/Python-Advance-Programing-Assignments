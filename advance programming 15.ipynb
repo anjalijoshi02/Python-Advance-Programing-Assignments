{
 "cells": [
  {
   "cell_type": "markdown",
   "id": "ff09595d",
   "metadata": {},
   "source": [
    "# Python Advanced Programming 15"
   ]
  },
  {
   "cell_type": "markdown",
   "id": "16720231",
   "metadata": {},
   "source": [
    "#### Question 1:Write a function that returns True if a given name can generate an array of words."
   ]
  },
  {
   "cell_type": "code",
   "execution_count": 1,
   "id": "dfa8bd86",
   "metadata": {},
   "outputs": [
    {
     "name": "stdout",
     "output_type": "stream",
     "text": [
      "anagram('Justin Bieber', ['injures', 'ebb', 'it']) ➞ True\n",
      "anagram('Natalie Portman', ['ornamental', 'pita']) ➞ True\n",
      "anagram('Chris Pratt', ['chirps', 'rat']) ➞ False\n",
      "anagram('Jeff Goldblum', ['jog', 'meld', 'bluffs']) ➞ False\n"
     ]
    }
   ],
   "source": [
    "def anagram(string,lst):\n",
    "    string1=string\n",
    "    in_list=[]\n",
    "    not_in_list=[]\n",
    "    string=list(string.lower())\n",
    "    string.remove(' ')\n",
    "    s=[]\n",
    "    s.extend(string)\n",
    "    for i in lst:\n",
    "        for j in i:\n",
    "            if j in s:\n",
    "                s.remove(j)\n",
    "                in_list.append(j)\n",
    "            else:\n",
    "                not_in_list.append(j)\n",
    "    if len(in_list)==len(string) and len(not_in_list)==0:\n",
    "        print(f'anagram{string1,lst} ➞ {True}')\n",
    "    else:\n",
    "        print(f'anagram{string1,lst} ➞ {False}')\n",
    "anagram(\"Justin Bieber\", [\"injures\", \"ebb\", \"it\"])\n",
    "anagram(\"Natalie Portman\", [\"ornamental\", \"pita\"])\n",
    "anagram(\"Chris Pratt\", [\"chirps\", \"rat\"])\n",
    "anagram(\"Jeff Goldblum\", [\"jog\", \"meld\", \"bluffs\"])    \n",
    "    "
   ]
  },
  {
   "cell_type": "markdown",
   "id": "03ace6d2",
   "metadata": {},
   "source": [
    "#### Question 2: Given an array of users, each defined by an object with the following properties: name, score, reputation create a function that sorts the array to form the correct leaderboard."
   ]
  },
  {
   "cell_type": "code",
   "execution_count": 2,
   "id": "5a13c40b",
   "metadata": {},
   "outputs": [
    {
     "name": "stdout",
     "output_type": "stream",
     "text": [
      "leaderboards([{'name': 'a', 'score': 100, 'reputation': 20}, {'name': 'b', 'score': 90, 'reputation': 40}, {'name': 'c', 'score': 115, 'reputation': 30}]) ➞ [{'name': 'c', 'score': 115, 'reputation': 30}, {'name': 'b', 'score': 90, 'reputation': 40}, {'name': 'a', 'score': 100, 'reputation': 20}]\n"
     ]
    }
   ],
   "source": [
    "def leaderboards(lst):\n",
    "    temp_dict = {}\n",
    "    out_list = []\n",
    "    for i in lst:\n",
    "        temp_dict[(i['reputation']*2)+i['score']] = i\n",
    "    for i in sorted(temp_dict.keys(),reverse=True):\n",
    "        out_list.append(temp_dict[i])\n",
    "    print(f'leaderboards({lst}) ➞ {out_list}')\n",
    "    \n",
    "leaderboards([\n",
    "  { \"name\": \"a\", \"score\": 100, \"reputation\": 20 },\n",
    "  { \"name\": \"b\", \"score\": 90, \"reputation\": 40 },\n",
    "  { \"name\": \"c\", \"score\": 115, \"reputation\": 30 },\n",
    "])"
   ]
  },
  {
   "cell_type": "markdown",
   "id": "1c3e89bf",
   "metadata": {},
   "source": [
    "#### Question 3: Create a function that, given a phrase and a number of letters guessed, returns a string with hyphens - for every letter of the phrase not guessed, and each letter guessed in place."
   ]
  },
  {
   "cell_type": "code",
   "execution_count": 3,
   "id": "b290aa77",
   "metadata": {},
   "outputs": [
    {
     "name": "stdout",
     "output_type": "stream",
     "text": [
      "hangman('helicopter', ['o', 'e', 's']) ➞ -e---o--e-\n",
      "hangman('tree', ['r', 't', 'e']) ➞ tree\n",
      "hangman('Python rules', ['a', 'n', 'p', 'r', 'z']) ➞ P----n r----\n",
      "hangman('He\"s a very naughty boy!', ['e', 'a', 'y']) ➞ -e\"- a -e-y -a----y --y!\n"
     ]
    }
   ],
   "source": [
    "def hangman(string,lst):\n",
    "    out_string = ''\n",
    "    for i in range(len(string)):\n",
    "        if string[i].lower() in lst:\n",
    "            out_string += string[i]\n",
    "        elif string[i] in '\"! ':\n",
    "            out_string += string[i]\n",
    "        else:\n",
    "            out_string += '-'\n",
    "    print(f'hangman{string,lst} ➞ {out_string}')\n",
    "        \n",
    "hangman(\"helicopter\", [\"o\", \"e\", \"s\"])\n",
    "hangman(\"tree\", [\"r\", \"t\", \"e\"])\n",
    "hangman(\"Python rules\", [\"a\", \"n\", \"p\", \"r\", \"z\"])\n",
    "hangman(\"He\\\"s a very naughty boy!\", [\"e\", \"a\", \"y\"])"
   ]
  },
  {
   "cell_type": "markdown",
   "id": "4f2a6958",
   "metadata": {},
   "source": [
    "#### Question 4: The Collatz sequence is as follows:\n",
    "Start with some given integer n.            \n",
    "If it is even, the next number will be n divided by 2.               \n",
    "If it is odd, multiply it by 3 and add 1 to make the next number.                \n",
    "The sequence stops when it reaches 1.             \n",
    "According to the Collatz conjecture, it will always reach 1. If that's true, you can construct a finite sequence following the aforementioned method for any given integer.                \n",
    "\n",
    "Write a function that takes in an integer n and returns the highest integer in the corresponding Collatz sequence."
   ]
  },
  {
   "cell_type": "code",
   "execution_count": 4,
   "id": "81cdfae6",
   "metadata": {},
   "outputs": [
    {
     "name": "stdout",
     "output_type": "stream",
     "text": [
      "max_collatz(10) ➞ 16\n",
      "max_collatz(32) ➞ 32\n",
      "max_collatz(85) ➞ 256\n"
     ]
    }
   ],
   "source": [
    "def max_collatz(num):\n",
    "    output = []\n",
    "    output.append(num)\n",
    "    temp = num\n",
    "    while True:\n",
    "        if temp%2 == 0:\n",
    "            temp /= 2\n",
    "        else:\n",
    "            temp = (temp*3)+1\n",
    "        output.append(int(temp))\n",
    "        if temp ==1:\n",
    "            break\n",
    "            \n",
    "    x= str(output)\n",
    "    print(f'max_collatz({num}) ➞ {max(output)}')\n",
    "\n",
    "max_collatz(10)\n",
    "max_collatz(32)\n",
    "max_collatz(85)"
   ]
  },
  {
   "cell_type": "markdown",
   "id": "078afd20",
   "metadata": {},
   "source": [
    "#### Question 5: Write a function that sorts a list of integers by their digit length in descending order, then settles ties by sorting numbers with the same digit length in ascending order."
   ]
  },
  {
   "cell_type": "code",
   "execution_count": 5,
   "id": "d5c37fc2",
   "metadata": {},
   "outputs": [
    {
     "name": "stdout",
     "output_type": "stream",
     "text": [
      "digit_sort([77, 23, 5, 7, 101]) ➞ [101, 23, 77, 5, 7]\n",
      "digit_sort([1, 5, 9, 2, 789, 563, 444]) ➞ [444, 563, 789, 1, 2, 5, 9]\n",
      "digit_sort([53219, 3772, 564, 32, 1]) ➞ [53219, 3772, 564, 32, 1]\n"
     ]
    }
   ],
   "source": [
    "def digit_sort(lst):\n",
    "    max_len = len(str(max(lst)))\n",
    "    output = []\n",
    "    for item in range(max_len,0,-1):\n",
    "        temp = []\n",
    "        for i in lst:\n",
    "            if len(str(i)) == item:\n",
    "                temp.append(i)\n",
    "        output.extend(sorted(temp))\n",
    "    print(f'digit_sort({lst}) ➞ {output}')\n",
    "    \n",
    "digit_sort([77, 23, 5, 7, 101])\n",
    "digit_sort([1, 5, 9, 2, 789, 563, 444])\n",
    "digit_sort([53219, 3772, 564, 32, 1])"
   ]
  }
 ],
 "metadata": {
  "kernelspec": {
   "display_name": "Python 3 (ipykernel)",
   "language": "python",
   "name": "python3"
  },
  "language_info": {
   "codemirror_mode": {
    "name": "ipython",
    "version": 3
   },
   "file_extension": ".py",
   "mimetype": "text/x-python",
   "name": "python",
   "nbconvert_exporter": "python",
   "pygments_lexer": "ipython3",
   "version": "3.9.12"
  }
 },
 "nbformat": 4,
 "nbformat_minor": 5
}
