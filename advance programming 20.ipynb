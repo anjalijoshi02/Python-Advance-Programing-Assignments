{
 "cells": [
  {
   "cell_type": "markdown",
   "id": "c411fba1",
   "metadata": {},
   "source": [
    "# Adavnce programming assignment 20"
   ]
  },
  {
   "cell_type": "markdown",
   "id": "1a7afce4",
   "metadata": {},
   "source": [
    "#### Question 1:  Create a function based on the input and output. Look at the examples, there is a pattern."
   ]
  },
  {
   "cell_type": "markdown",
   "id": "5dd05d85",
   "metadata": {},
   "source": [
    "Examples:\n",
    "secret(\"p.one.two.three\") ➞ \"<p class='one two three'></p>\"\n",
    "secret(\"p.one\") ➞ \"<p class='one'></p>\"\n",
    "secret(\"p.four.five\") ➞ \"<p class='four five'></p>\" "
   ]
  },
  {
   "cell_type": "code",
   "execution_count": 1,
   "id": "aac131ed",
   "metadata": {},
   "outputs": [
    {
     "name": "stdout",
     "output_type": "stream",
     "text": [
      "secret(\"p.one.two.three\") ➞ <p class=\"one two three\"></p>\n",
      "secret(\"p.one\") ➞ <p class=\"one\"></p>\n",
      "secret(\"p.four.five\") ➞ <p class=\"four five\"></p>\n"
     ]
    }
   ],
   "source": [
    "def secret(string):\n",
    "    string_1 = string\n",
    "    string = string.split(\".\")\n",
    "    output = f'<{string[0]} class=\"{\" \".join(string[1:])}\"></{string[0]}>'\n",
    "    print(f'secret(\"{string_1}\") ➞ {output}')\n",
    "    \n",
    "secret(\"p.one.two.three\")\n",
    "secret(\"p.one\")\n",
    "secret(\"p.four.five\")"
   ]
  },
  {
   "cell_type": "markdown",
   "id": "0706d493",
   "metadata": {},
   "source": [
    "#### Question 2: Create a function which counts how many lone 1s appear in a given number. Lone means the number doesn't appear twice or more in a row."
   ]
  },
  {
   "cell_type": "code",
   "execution_count": 2,
   "id": "c506b0e9",
   "metadata": {},
   "outputs": [
    {
     "name": "stdout",
     "output_type": "stream",
     "text": [
      "coint_lone_ones(101) ➞ 2\n",
      "coint_lone_ones(1191) ➞ 1\n",
      "coint_lone_ones(1111) ➞ 0\n",
      "coint_lone_ones(462) ➞ 0\n"
     ]
    }
   ],
   "source": [
    "import re\n",
    "def count_lone_ones(in_num):\n",
    "    pattern = r\"(?<!1)1(?!1)\" \n",
    "    output = re.findall(pattern,str(in_num))\n",
    "    print(f'coint_lone_ones({in_num}) ➞ {len(output)}')\n",
    "    \n",
    "count_lone_ones(101)\n",
    "count_lone_ones(1191)\n",
    "count_lone_ones(1111)\n",
    "count_lone_ones(462)\n",
    "        \n",
    "    "
   ]
  },
  {
   "cell_type": "markdown",
   "id": "99c33b10",
   "metadata": {},
   "source": [
    "#### Question 3: Write a method that accepts two integer parameters rows and cols. The output is a 2d array of numbers displayed in column-major order, meaning the numbers shown increase sequentially down each column and wrap to the top of the next column to the right once the bottom of the current column is reached."
   ]
  },
  {
   "cell_type": "code",
   "execution_count": 3,
   "id": "ebdb661c",
   "metadata": {},
   "outputs": [
    {
     "name": "stdout",
     "output_type": "stream",
     "text": [
      "printGrid(3, 6) ➞ [[1, 4, 7, 10, 13, 16], [2, 5, 8, 11, 14, 17], [3, 6, 9, 12, 15, 18]]\n",
      "printGrid(5, 3) ➞ [[1, 6, 11], [2, 7, 12], [3, 8, 13], [4, 9, 14], [5, 10, 15]]\n",
      "printGrid(4, 1) ➞ [[1], [2], [3], [4]]\n"
     ]
    }
   ],
   "source": [
    "def printGrid(num_1,num_2):\n",
    "    output = []\n",
    "    for i in range(num_1):\n",
    "        temp = []\n",
    "        for j in range(num_2):\n",
    "            temp.append(i+(num_1*j)+1)\n",
    "        output.append(temp)\n",
    "    print(f'printGrid{num_1,num_2} ➞ {output}')\n",
    "    \n",
    "printGrid(3, 6)\n",
    "printGrid(5, 3)  \n",
    "printGrid(4, 1)"
   ]
  },
  {
   "cell_type": "markdown",
   "id": "71cfe34b",
   "metadata": {},
   "source": [
    "#### Question 4 : Given a list of integers, return the smallest positive integer not present in the list.\n",
    "Here is a representative example.              \n",
    "Consider the list: [-2, 6, 4, 5, 7, -1, 7, 1, 3, 6, 6, -2, 9, 10, 2, 2]           \n",
    "After reordering, the list becomes: [-2, -2, -1, 1, 2, 2, 3, 4, 5, 6, 6, 6, 7, 7, 9, 10]              \n",
    "from which we see that the smallest missing positive integer is 8."
   ]
  },
  {
   "cell_type": "code",
   "execution_count": 4,
   "id": "80a183f0",
   "metadata": {},
   "outputs": [
    {
     "name": "stdout",
     "output_type": "stream",
     "text": [
      "min_miss_pos([-2, 6, 4, 5, 7, -1, 1, 3, 6, -2, 9, 10, 2, 2]) ➞ [-2, -2, -1, 1, 2, 2, 3, 4, 5, 6, 6, 7, 9, 10] ➞ 8\n",
      "min_miss_pos([5, 9, -2, 0, 1, 3, 9, 3, 8, 9]) ➞ [-2, 0, 1, 3, 3, 5, 8, 9, 9, 9] ➞ 2\n",
      "min_miss_pos([0, 4, 4, -1, 9, 4, 5, 2, 10, 7, 6, 3, 10, 9]) ➞ [-1, 0, 2, 3, 4, 4, 4, 5, 6, 7, 9, 9, 10, 10] ➞ 1\n"
     ]
    }
   ],
   "source": [
    "def min_miss_pos(lst):\n",
    "    list_1 = lst.copy()\n",
    "    lst = sorted(lst)\n",
    "    output = -1\n",
    "    for i in range(1,max(lst)+1):\n",
    "        if i not in lst:\n",
    "            output = i\n",
    "            break\n",
    "    print(f'min_miss_pos({list_1}) ➞ {lst} ➞ {output}')\n",
    "    \n",
    "min_miss_pos([-2, 6, 4, 5, 7, -1, 1, 3, 6, -2, 9, 10, 2, 2])\n",
    "min_miss_pos([5, 9, -2, 0, 1, 3, 9, 3, 8, 9])\n",
    "min_miss_pos([0, 4, 4, -1, 9, 4, 5, 2, 10, 7, 6, 3, 10, 9])\n"
   ]
  },
  {
   "cell_type": "markdown",
   "id": "c8b09581",
   "metadata": {},
   "source": [
    "#### Question 5: Google is launching a network of autonomous pizza delivery drones and wants you to create a flexible rewards system (Pizza Points™) that can be tweaked in the future. The rules are simple: if a customer has made at least N orders of at least Y price, they get a FREE pizza!\n",
    "Create a function that takes a dictionary of customers, a minimum number of orders and a minimum order price. Return a list of customers that are eligible for a free pizza."
   ]
  },
  {
   "cell_type": "code",
   "execution_count": 5,
   "id": "1e8072de",
   "metadata": {},
   "outputs": [
    {
     "name": "stdout",
     "output_type": "stream",
     "text": [
      "pizza_points('customers', 5, 20) ➞ ['Spider-Man']\n",
      "pizza_points('customers', 3, 10) ➞ ['Batman', 'Spider-Man']\n",
      "pizza_points('customers', 5, 100) ➞ []\n"
     ]
    }
   ],
   "source": [
    "def pizza_points(dic,min_order,min_price):\n",
    "    output = []\n",
    "    for customer in dic.keys():\n",
    "        if len([order_price for order_price in dic[customer] if order_price > min_price]) > min_order:\n",
    "            output.append(customer)\n",
    "    print(f'pizza_points{\"customers\",min_order,min_price} ➞ {output}')\n",
    "\n",
    "customers = {\n",
    "  \"Batman\": [22, 30, 11, 17, 15, 52, 27, 12],\n",
    "  \"Spider-Man\": [5, 17, 30, 33, 40, 22, 26, 10, 11, 45]\n",
    "}\n",
    "    \n",
    "pizza_points(customers, 5, 20)\n",
    "pizza_points(customers, 3, 10)\n",
    "pizza_points(customers, 5, 100)"
   ]
  },
  {
   "cell_type": "code",
   "execution_count": null,
   "id": "3e173cb7",
   "metadata": {},
   "outputs": [],
   "source": []
  }
 ],
 "metadata": {
  "kernelspec": {
   "display_name": "Python 3 (ipykernel)",
   "language": "python",
   "name": "python3"
  },
  "language_info": {
   "codemirror_mode": {
    "name": "ipython",
    "version": 3
   },
   "file_extension": ".py",
   "mimetype": "text/x-python",
   "name": "python",
   "nbconvert_exporter": "python",
   "pygments_lexer": "ipython3",
   "version": "3.9.12"
  }
 },
 "nbformat": 4,
 "nbformat_minor": 5
}
