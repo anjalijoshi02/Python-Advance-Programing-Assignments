{
 "cells": [
  {
   "cell_type": "markdown",
   "id": "34fe9775",
   "metadata": {},
   "source": [
    "# Python Advance Programming 11"
   ]
  },
  {
   "cell_type": "markdown",
   "id": "c44d8d8f",
   "metadata": {},
   "source": [
    "#### Question 1: Create a function that takes a list and returns a new list containing only prime numbers."
   ]
  },
  {
   "cell_type": "code",
   "execution_count": 8,
   "id": "bc47eb59",
   "metadata": {},
   "outputs": [
    {
     "name": "stdout",
     "output_type": "stream",
     "text": [
      " filter_primes[7, 9, 3, 9, 10, 11, 27] ➞ [7, 3, 11]\n",
      " filter_primes[10007, 1009, 1007, 27, 147, 77, 1001, 70] ➞ [10007, 1009]\n",
      " filter_primes[1009, 10, 10, 10, 3, 33, 9, 4, 1, 61, 63, 69, 1087, 1091, 1093, 1097] ➞ [1009, 3, 61, 1087, 1091, 1093, 1097]\n"
     ]
    }
   ],
   "source": [
    "def filter_primes(lst):\n",
    "    def is_prime(num):\n",
    "        if num==0 or num==1 :\n",
    "            return False\n",
    "        else:\n",
    "            k=0\n",
    "            for i in range(2,num):\n",
    "                if num%i==0:\n",
    "                    k=1\n",
    "                    break\n",
    "            if k==1:\n",
    "                return False\n",
    "            else:\n",
    "                return True\n",
    "    out=[]\n",
    "    for i in lst:\n",
    "        if is_prime(i)==True:\n",
    "            out.append(i)\n",
    "        else:\n",
    "            continue\n",
    "    print(f' filter_primes{lst} ➞ {out}')\n",
    "filter_primes([7, 9, 3, 9, 10, 11, 27])\n",
    "filter_primes([10007, 1009, 1007, 27, 147, 77, 1001, 70])\n",
    "filter_primes([1009, 10, 10, 10, 3, 33, 9, 4, 1, 61, 63, 69, 1087, 1091, 1093, 1097])       "
   ]
  },
  {
   "cell_type": "markdown",
   "id": "68399659",
   "metadata": {},
   "source": [
    "#### Question 2: Once a water balloon pops, is soaks the area around it. The ground gets drier the further away you travel from the balloon.The effect of a water balloon popping can be modeled using a list. Create a function that takes a list which takes the pre-pop state and returns the state after the balloon is popped. The pre-pop state will contain at most a single balloon, whose size is represented by the only non-zero element.\n"
   ]
  },
  {
   "cell_type": "code",
   "execution_count": 5,
   "id": "08b3ba69",
   "metadata": {},
   "outputs": [
    {
     "name": "stdout",
     "output_type": "stream",
     "text": [
      "pop([0, 0, 0, 0, 4, 0, 0, 0, 0]) ➞ [0, 1, 2, 3, 4, 3, 2, 1, 0]\n",
      "pop([0, 0, 0, 3, 0, 0, 0]) ➞ [0, 1, 2, 3, 2, 1, 0]\n",
      "pop([0, 0, 2, 0, 0]) ➞ [0, 1, 2, 1, 0]\n",
      "pop([0]) ➞ [0]\n"
     ]
    }
   ],
   "source": [
    "def pop(lst):\n",
    "    pop_number = sorted(lst,reverse=True)[0]\n",
    "    output = []\n",
    "    if pop_number == 0:\n",
    "        output.append(0)\n",
    "    else:\n",
    "        output.extend([x for x in range((len(lst)-1)//2)])\n",
    "        output.append(pop_number)\n",
    "        output.extend([((len(lst)-2)//2)-x for x in range((len(lst)-1)//2)])\n",
    "    print(f'pop({lst}) ➞ {output}')\n",
    "    \n",
    "pop([0, 0, 0, 0, 4, 0, 0, 0, 0])\n",
    "pop([0, 0, 0, 3, 0, 0, 0])\n",
    "pop([0, 0, 2, 0, 0])\n",
    "pop([0])"
   ]
  },
  {
   "cell_type": "markdown",
   "id": "cf8628a1",
   "metadata": {},
   "source": [
    "#### Question 3: \"Loves me, loves me not\" is a traditional game in which a person plucks off all the petals of a flower one by one, saying the phrase \"Loves me\" and \"Loves me not\" when determining whether the one that they love, loves them back. Given a number of petals, return a string which repeats the phrases \"Loves me\" and \"Loves me not\" for every alternating petal, and return the last phrase in all caps. Remember to put a comma and space between phrases."
   ]
  },
  {
   "cell_type": "code",
   "execution_count": 7,
   "id": "15aa242c",
   "metadata": {},
   "outputs": [
    {
     "name": "stdout",
     "output_type": "stream",
     "text": [
      "loves_me(3) ➞ Loves me, Loves me not, LOVES ME\n",
      "loves_me(6) ➞ Loves me, Loves me not, Loves me, Loves me not, Loves me, LOVES ME NOT\n",
      "loves_me(1) ➞ LOVES ME\n"
     ]
    }
   ],
   "source": [
    "def loves_me(num):\n",
    "    out = []\n",
    "    for i in range(num):\n",
    "        if i%2 ==0:\n",
    "            out.append('Loves me')\n",
    "        else:\n",
    "            out.append('Loves me not')\n",
    "    out[-1] = out[-1].upper()\n",
    "    print(f'loves_me({num}) ➞ {\", \".join(out)}')\n",
    "    \n",
    "loves_me(3)\n",
    "loves_me(6)\n",
    "loves_me(1)"
   ]
  },
  {
   "cell_type": "markdown",
   "id": "492543dd",
   "metadata": {},
   "source": [
    "#### Question 4: Write a function that sorts each string in a list by the letter in alphabetic ascending order (a-z).\n"
   ]
  },
  {
   "cell_type": "code",
   "execution_count": 11,
   "id": "7ee76f34",
   "metadata": {},
   "outputs": [
    {
     "name": "stdout",
     "output_type": "stream",
     "text": [
      "sort_by_letter(['932c', '832u32', '2344b']) ➞ ['2344b', '932c', '832u32']\n",
      "sort_by_letter(['99a', '78b', 'c2345', '11d']) ➞ ['99a', '78b', 'c2345', '11d']\n",
      "sort_by_letter(['572z', '5y5', '304q2']) ➞ ['304q2', '5y5', '572z']\n",
      "sort_by_letter([]) ➞ []\n"
     ]
    }
   ],
   "source": [
    "def sort_by_letter(lst):\n",
    "    out_temp=[]\n",
    "    output=[]\n",
    "    for i in lst:\n",
    "        for j in i:\n",
    "            if j.isalpha():\n",
    "                out_temp.append(j)\n",
    "    out_temp.sort()\n",
    "    for letter in out_temp:\n",
    "        for i in lst:\n",
    "            if letter in i:\n",
    "                output.append(i)\n",
    "    print(f'sort_by_letter({lst}) ➞ {output}')\n",
    "sort_by_letter([\"932c\", \"832u32\", \"2344b\"])\n",
    "sort_by_letter([\"99a\", \"78b\", \"c2345\", \"11d\"])\n",
    "sort_by_letter([\"572z\", \"5y5\", \"304q2\"])\n",
    "sort_by_letter([])"
   ]
  },
  {
   "cell_type": "markdown",
   "id": "becd8397",
   "metadata": {},
   "source": [
    "#### Question 5:There are three cups on a table, at positions A, B, and C. At the start, there is a ball hidden under the cup at position B. However, I perform several swaps on the cups, which is notated as two letters. For example, if I swap the cups at positions A and B, I could notate this as AB or BA. Create a function that returns the letter position that the ball is at, once I finish swapping the cups. The swaps will be given to you as a list."
   ]
  },
  {
   "cell_type": "code",
   "execution_count": 13,
   "id": "f279d520",
   "metadata": {},
   "outputs": [
    {
     "name": "stdout",
     "output_type": "stream",
     "text": [
      "cup_swapping(['AB', 'CA', 'AB']) ➞ C\n",
      "cup_swapping(['AB', 'CA', 'AB']) ➞ B\n",
      "cup_swapping(['AC', 'BC', 'AB']) ➞ A\n"
     ]
    }
   ],
   "source": [
    "def cup_swapping(lst,initial_pos):\n",
    "    ball_position = initial_pos\n",
    "    for i in lst:\n",
    "        if ball_position in i:\n",
    "            ball_position = i.replace(ball_position,'')\n",
    "    print(f'cup_swapping({lst}) ➞ {ball_position}')\n",
    "            \n",
    "cup_swapping([\"AB\", \"CA\", \"AB\"],'B')\n",
    "cup_swapping([\"AB\", \"CA\", \"AB\"],'C')\n",
    "cup_swapping([\"AC\", \"BC\", \"AB\"],'A')"
   ]
  },
  {
   "cell_type": "code",
   "execution_count": null,
   "id": "d4d71b13",
   "metadata": {},
   "outputs": [],
   "source": []
  }
 ],
 "metadata": {
  "kernelspec": {
   "display_name": "Python 3 (ipykernel)",
   "language": "python",
   "name": "python3"
  },
  "language_info": {
   "codemirror_mode": {
    "name": "ipython",
    "version": 3
   },
   "file_extension": ".py",
   "mimetype": "text/x-python",
   "name": "python",
   "nbconvert_exporter": "python",
   "pygments_lexer": "ipython3",
   "version": "3.9.12"
  }
 },
 "nbformat": 4,
 "nbformat_minor": 5
}
