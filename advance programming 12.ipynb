{
 "cells": [
  {
   "cell_type": "markdown",
   "id": "8980e7c4",
   "metadata": {},
   "source": [
    "# Python Advance Programming 12"
   ]
  },
  {
   "cell_type": "markdown",
   "id": "50f1f147",
   "metadata": {},
   "source": [
    "#### Question 1:For this challenge, forget how to add two numbers together. The best explanation on what to do for this function is this meme:\n",
    "Examples:            \n",
    "meme_sum(26, 39) ➞ 515          \n",
    " 2+3 = 5, 6+9 = 15        \n",
    " 26 + 39 = 515           \n",
    "meme_sum(122, 81) ➞ 1103           \n",
    "1+0 = 1, 2+8 = 10, 2+1 = 3         \n",
    " 122 + 81 = 1103      \n",
    "meme_sum(1222, 30277) ➞ 31499"
   ]
  },
  {
   "cell_type": "code",
   "execution_count": 1,
   "id": "84af21cd",
   "metadata": {},
   "outputs": [
    {
     "name": "stdout",
     "output_type": "stream",
     "text": [
      "meme_sum('26', '39') ➞ 515\n",
      "meme_sum('122', '081') ➞ 1103\n",
      "meme_sum('01222', '30277') ➞ 31499\n"
     ]
    }
   ],
   "source": [
    "def meme_sum(a,b):\n",
    "    a,b = str(a),str(b)\n",
    "    output = ''\n",
    "    while len(a) != len(b):\n",
    "        if len(a) < len(b):\n",
    "            a ='0'+a\n",
    "        else:\n",
    "            b='0'+b\n",
    "    for i in range(len(a)):\n",
    "        output += str(int(a[i])+int(b[i]))\n",
    "    print(f'meme_sum{a,b} ➞ {output}')\n",
    "       \n",
    "meme_sum(26, 39)\n",
    "meme_sum(122, 81)\n",
    "meme_sum(1222, 30277)"
   ]
  },
  {
   "cell_type": "markdown",
   "id": "1ff80251",
   "metadata": {},
   "source": [
    "#### Question 2: Given an integer, create a function that returns the next prime. If the number is prime, return the number itself."
   ]
  },
  {
   "cell_type": "code",
   "execution_count": 4,
   "id": "e3a10ea1",
   "metadata": {},
   "outputs": [
    {
     "name": "stdout",
     "output_type": "stream",
     "text": [
      "next_prine(12) ➞ 13\n",
      "next_prine(24) ➞ 29\n",
      "next_prine(11) ➞ 11\n"
     ]
    }
   ],
   "source": [
    "def next_prime(num):\n",
    "    num1 = num\n",
    "    while True:\n",
    "        if (num-1)%6 == 0 or (num+1)%6 ==0 :\n",
    "            temp = num\n",
    "            for i in range(3,num+1):\n",
    "                if num%i == 0 and i != num:\n",
    "                    num = num+1\n",
    "                    break\n",
    "            if temp == num:\n",
    "                break\n",
    "        else:\n",
    "            num += 1\n",
    "    \n",
    "    print(f'next_prine({num1}) ➞ {num}')\n",
    "        \n",
    "next_prime(12)\n",
    "next_prime(24)\n",
    "next_prime(11)"
   ]
  },
  {
   "cell_type": "markdown",
   "id": "e94196ed",
   "metadata": {},
   "source": [
    "#### Question 3:  If a person traveled up a hill for 18mins at 20mph and then traveled back down the same path at 60mph then their average speed traveled was 30mph. Write a function that returns the average speed traveled given an uphill time, uphill rate and a downhill rate. Uphill time is given in minutes. Return the rate as an integer (mph). No rounding is necessary."
   ]
  },
  {
   "cell_type": "code",
   "execution_count": 2,
   "id": "88782156",
   "metadata": {},
   "outputs": [
    {
     "name": "stdout",
     "output_type": "stream",
     "text": [
      "ave_speed(18, 20, 60) ➞ 30\n",
      "ave_speed(30, 10, 30) ➞ 15\n",
      "ave_speed(30, 8, 24) ➞ 12\n"
     ]
    }
   ],
   "source": [
    "def ave_speed(up_time,up_speed,down_speed):\n",
    "    distance = up_speed*(up_time/60)\n",
    "    down_time = distance/down_speed\n",
    "    output = (2*distance)/((up_time/60)+down_time)\n",
    "    print(f'ave_speed{up_time,up_speed,down_speed} ➞ {int(output)}')\n",
    "    \n",
    "ave_speed(18, 20, 60)\n",
    "ave_speed(30, 10, 30)\n",
    "ave_speed(30, 8, 24)"
   ]
  },
  {
   "cell_type": "markdown",
   "id": "52bd927a",
   "metadata": {},
   "source": [
    "#### Question 4: The Kempner Function, applied to a composite number, permits to find the smallest integer greater than zero whose factorial is exactly divided by the number."
   ]
  },
  {
   "cell_type": "code",
   "execution_count": 3,
   "id": "a3e3ae85",
   "metadata": {},
   "outputs": [
    {
     "name": "stdout",
     "output_type": "stream",
     "text": [
      "kempner(6) ➞ 3\n",
      "kempner(10) ➞ 5\n",
      "kempner(2) ➞ 2\n",
      "kempner(5) ➞ 5\n"
     ]
    }
   ],
   "source": [
    "def kempner(num):\n",
    "    def factorial(number):\n",
    "        if number ==0:\n",
    "            return 1\n",
    "        else:\n",
    "            return number*factorial(number-1)\n",
    "    def is_prime(num):\n",
    "        if num==0 or num==1 :\n",
    "            return False\n",
    "        else:\n",
    "            k=0\n",
    "            for i in range(2,num):\n",
    "                if num%i==0:\n",
    "                    k=1\n",
    "                    break\n",
    "            if k==1:\n",
    "                return False\n",
    "            else:\n",
    "                return True\n",
    "    if is_prime(num)==True:\n",
    "        print(f'kempner({num}) ➞ {num}')\n",
    "    else:\n",
    "        for i in range(num):\n",
    "            if factorial(i)%num==0:\n",
    "                print(f'kempner({num}) ➞ {i}')\n",
    "                break\n",
    "kempner(6)\n",
    "kempner(10)\n",
    "kempner(2)\n",
    "kempner(5)   "
   ]
  },
  {
   "cell_type": "markdown",
   "id": "b5a12414",
   "metadata": {},
   "source": [
    "#### Question 5: You work in a factory, and your job is to take items from a conveyor belt and pack them into boxes. Each box can hold a maximum of 10 kgs. Given a list containing the weight (in kg) of each item, how many boxes would you need to pack all of the items?"
   ]
  },
  {
   "cell_type": "code",
   "execution_count": 6,
   "id": "d1ae9a6a",
   "metadata": {},
   "outputs": [
    {
     "name": "stdout",
     "output_type": "stream",
     "text": [
      "boxes([]) ➞ [[2, 1, 2, 5], [4, 3], [6, 1, 1], [9], [3, 2]] ➞ 5\n",
      "boxes([]) ➞ [[2, 3, 4], [2, 7], [5], [6], [8], [9, 6]] ➞ 6\n"
     ]
    }
   ],
   "source": [
    "def boxes(lst):\n",
    "    list1 = lst\n",
    "    output = []\n",
    "    temp = []\n",
    "    while True:\n",
    "        if len(lst) != 0:\n",
    "            if sum(temp) <= 10:\n",
    "                temp.append(lst.pop(0))\n",
    "            else:\n",
    "                lst.insert(0,temp.pop())\n",
    "                output.append(temp)\n",
    "                temp = []\n",
    "        else:\n",
    "            output.append(temp)\n",
    "            temp = []\n",
    "            break\n",
    "    print(f'boxes({list1}) ➞ {output} ➞ {len(output)}')    \n",
    "    \n",
    "boxes([2, 1, 2, 5, 4, 3, 6, 1, 1, 9, 3, 2])\n",
    "boxes([2,3,4,2,7,5,6,8,9,6])"
   ]
  },
  {
   "cell_type": "code",
   "execution_count": null,
   "id": "aebaa14d",
   "metadata": {},
   "outputs": [],
   "source": []
  }
 ],
 "metadata": {
  "kernelspec": {
   "display_name": "Python 3 (ipykernel)",
   "language": "python",
   "name": "python3"
  },
  "language_info": {
   "codemirror_mode": {
    "name": "ipython",
    "version": 3
   },
   "file_extension": ".py",
   "mimetype": "text/x-python",
   "name": "python",
   "nbconvert_exporter": "python",
   "pygments_lexer": "ipython3",
   "version": "3.9.7"
  }
 },
 "nbformat": 4,
 "nbformat_minor": 5
}
