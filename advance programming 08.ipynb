{
 "cells": [
  {
   "cell_type": "markdown",
   "id": "506019ed",
   "metadata": {},
   "source": [
    "# Python AdvanceProgramming 08"
   ]
  },
  {
   "cell_type": "markdown",
   "id": "e9932513",
   "metadata": {},
   "source": [
    "#### Question 1 : Given a sentence as txt, return True if any two adjacent words have this property: One word ends with a vowel, while the word immediately after begins with a vowel (a e i o u)."
   ]
  },
  {
   "cell_type": "code",
   "execution_count": 17,
   "id": "f0c6841d",
   "metadata": {},
   "outputs": [
    {
     "name": "stdout",
     "output_type": "stream",
     "text": [
      "vowel_links(a very large appliance) -> True\n",
      "vowel_links(go to edabit) -> True\n",
      "vowel_links(an open fire) -> False\n",
      "vowel_links(a sudden applause) -> False\n"
     ]
    }
   ],
   "source": [
    "def vowel_links(string):\n",
    "    l=string.split(\" \")\n",
    "    vowels=['a','e','i','o','u']\n",
    "    k=0\n",
    "    for i in range(len(l)-1):\n",
    "        if l[i][-1] in vowels and l[i+1][0] in vowels:\n",
    "            k=1\n",
    "        else:\n",
    "            continue\n",
    "               \n",
    "    print(f'vowel_links({string}) -> {True if k==1 else False}')\n",
    "        \n",
    "vowel_links(\"a very large appliance\") \n",
    "vowel_links(\"go to edabit\")\n",
    "vowel_links(\"an open fire\")\n",
    "vowel_links(\"a sudden applause\")"
   ]
  },
  {
   "cell_type": "markdown",
   "id": "97d93598",
   "metadata": {},
   "source": [
    "#### Question 2 : You are given three inputs: a string, one letter, and a second letter. Write a function that returns True if every instance of the first letter occurs before every instance of the second letter."
   ]
  },
  {
   "cell_type": "code",
   "execution_count": 46,
   "id": "9ffb53b7",
   "metadata": {},
   "outputs": [
    {
     "name": "stdout",
     "output_type": "stream",
     "text": [
      "first_before_second_find(a rabbit jumps joyfully, a, j) ➞ True\n",
      "first_before_second_find(knaves knew about waterfalls, k, w) ➞ True\n",
      "first_before_second_find(happy birthday, a, y) ➞ False\n",
      "first_before_second_find(precarious kangaroos, k, a) ➞ False\n"
     ]
    }
   ],
   "source": [
    "def first_before_second(string,first,second):\n",
    "    a = string.rfind(first)\n",
    "    b = string.find(second)\n",
    "    output = True if a < b else False\n",
    "    print(f'first_before_second_find({string}, {first}, {second}) ➞ {output}')\n",
    "\n",
    "first_before_second(\"a rabbit jumps joyfully\", \"a\", \"j\")\n",
    "first_before_second(\"knaves knew about waterfalls\", \"k\", \"w\")\n",
    "first_before_second(\"happy birthday\", \"a\", \"y\")\n",
    "first_before_second(\"precarious kangaroos\", \"k\", \"a\")"
   ]
  },
  {
   "cell_type": "markdown",
   "id": "eb0ae125",
   "metadata": {},
   "source": [
    "#### Question 3 : Create a function that returns the characters from a list or string r on odd or even positions, depending on the specifier s. The specifier will be \"odd\" for items on odd positions (1, 3, 5, ...) and \"even\" for items on even positions (2, 4, 6, ...)"
   ]
  },
  {
   "cell_type": "code",
   "execution_count": 31,
   "id": "3780c6e5",
   "metadata": {},
   "outputs": [
    {
     "name": "stdout",
     "output_type": "stream",
     "text": [
      "char_at_pos ([2, 4, 6, 8, 10], 'even') -> [4, 8]\n",
      " char_at_pos ('EDABIT', 'odd') -> EAI\n",
      " char_at_pos (['A', 'R', 'B', 'I', 'T', 'R', 'A', 'R', 'I', 'L', 'Y'], 'odd') -> ['A', 'B', 'T', 'A', 'I', 'Y']\n"
     ]
    }
   ],
   "source": [
    "def char_at_pos(inp,pos):\n",
    "    if type(inp)==list:\n",
    "        l_odd=[]\n",
    "        l_even=[]\n",
    "        for i in range(len(inp)):\n",
    "            if i%2!=0:\n",
    "                l_even.append(inp[i])\n",
    "            else:\n",
    "                l_odd.append(inp[i])\n",
    "        if pos==\"odd\":\n",
    "            print(f' char_at_pos {inp,pos} -> {l_odd}')\n",
    "        else:\n",
    "            print(f'char_at_pos {inp,pos} -> {l_even}')\n",
    "    elif type(inp)==str:\n",
    "        l_odd=[]\n",
    "        l_even=[]\n",
    "        for i in range(len(inp)):\n",
    "            if i%2!=0:\n",
    "                l_even.append(inp[i])\n",
    "            else:\n",
    "                l_odd.append(inp[i])\n",
    "        if pos==\"odd\":\n",
    "            print(f' char_at_pos {inp,pos} -> {\"\".join(l_odd)}')\n",
    "        else:\n",
    "            print(f'char_at_pos {inp,pos} -> {\"\".join(l_even)}')\n",
    "char_at_pos([2, 4, 6, 8, 10], \"even\")\n",
    "char_at_pos(\"EDABIT\", \"odd\")\n",
    "char_at_pos([\"A\", \"R\", \"B\", \"I\", \"T\", \"R\", \"A\", \"R\", \"I\", \"L\", \"Y\"], \"odd\")  \n"
   ]
  },
  {
   "cell_type": "markdown",
   "id": "9e53f455",
   "metadata": {},
   "source": [
    "#### Question 4 : Write a function that returns the greatest common divisor of all list elements. If the greatest common divisor is 1, return 1"
   ]
  },
  {
   "cell_type": "code",
   "execution_count": 32,
   "id": "e646ecb6",
   "metadata": {},
   "outputs": [
    {
     "name": "stdout",
     "output_type": "stream",
     "text": [
      "GCD([10, 20, 40]) ➞ 10\n",
      "GCD([1, 2, 3, 100]) ➞ 1\n",
      "GCD([1024, 192, 2048, 512]) ➞ 64\n"
     ]
    }
   ],
   "source": [
    "def GCD(lst):\n",
    "    minimum = min(lst)\n",
    "    gcd = -1\n",
    "    for i in range(1, minimum+1):\n",
    "        output = []\n",
    "        for j in lst:\n",
    "            output.append(j%i)\n",
    "        if len(set(output)) == 1 and list(set(output))[0] == 0:\n",
    "            gcd = i\n",
    "    print(f'GCD({lst}) ➞ {gcd}')\n",
    "    \n",
    "GCD([10, 20, 40])\n",
    "GCD([1, 2, 3, 100])\n",
    "GCD([1024, 192, 2048, 512])"
   ]
  },
  {
   "cell_type": "markdown",
   "id": "d76be08a",
   "metadata": {},
   "source": [
    "#### Question 5 : A number/string is a palindrome if the digits/characters are the same when read both forward and backward. Examples include \"racecar\" and 12321. Given a positive number n, check if n or the binary representation of n is palindromic. Return the following:\n",
    "- \"Decimal only.\" if only n is a palindrome.\n",
    "- \"Binary only.\" if only the binary representation of n is a palindrome.\n",
    "- \"Decimal and binary.\" if both are palindromes.\n",
    "- \"Neither!\" if neither are palindromes."
   ]
  },
  {
   "cell_type": "code",
   "execution_count": 45,
   "id": "647e5304",
   "metadata": {},
   "outputs": [
    {
     "name": "stdout",
     "output_type": "stream",
     "text": [
      " palindrone_type (1306031) ➞ Decimal only\n",
      " palindrone_type (427787) ➞ Binary only\n",
      " palindrone_type (313) ➞ Decimal and Binary\n",
      " palindrone_type (934) ➞ Neither\n"
     ]
    }
   ],
   "source": [
    "def palindrome_type(num):\n",
    "    out= None\n",
    "    if str(num)==str(num)[::-1] and str(bin(num)[2:])==str(bin(num)[2:])[::-1]:\n",
    "        out='Decimal and Binary'\n",
    "    elif str(num)==str(num)[::-1] and str(bin(num)[2:])!=str(bin(num)[2:])[::-1]:\n",
    "        out='Decimal only'\n",
    "    elif str(num)!=str(num)[::-1] and str(bin(num)[2:])==str(bin(num)[2:])[::-1]:\n",
    "        out='Binary only'\n",
    "    else:\n",
    "        out='Neither'\n",
    "    print(f' palindrone_type ({num}) ➞ {out}')\n",
    "palindrome_type(1306031)\n",
    "palindrome_type(427787)\n",
    "palindrome_type(313)\n",
    "palindrome_type(934)       "
   ]
  },
  {
   "cell_type": "code",
   "execution_count": null,
   "id": "2b0063d7",
   "metadata": {},
   "outputs": [],
   "source": []
  },
  {
   "cell_type": "code",
   "execution_count": null,
   "id": "9657256c",
   "metadata": {},
   "outputs": [],
   "source": []
  }
 ],
 "metadata": {
  "kernelspec": {
   "display_name": "Python 3 (ipykernel)",
   "language": "python",
   "name": "python3"
  },
  "language_info": {
   "codemirror_mode": {
    "name": "ipython",
    "version": 3
   },
   "file_extension": ".py",
   "mimetype": "text/x-python",
   "name": "python",
   "nbconvert_exporter": "python",
   "pygments_lexer": "ipython3",
   "version": "3.9.12"
  }
 },
 "nbformat": 4,
 "nbformat_minor": 5
}
