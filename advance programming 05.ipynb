{
 "cells": [
  {
   "cell_type": "markdown",
   "id": "8b9766e8",
   "metadata": {},
   "source": [
    "# Python Advance Programming 05"
   ]
  },
  {
   "cell_type": "markdown",
   "id": "d21526aa",
   "metadata": {},
   "source": [
    "#### Question 1: Create a function that takes a number n (integer greater than zero) as an argument, and returns 2 if n is odd and 8 if n is even."
   ]
  },
  {
   "cell_type": "code",
   "execution_count": 1,
   "id": "37904a81",
   "metadata": {},
   "outputs": [
    {
     "name": "stdout",
     "output_type": "stream",
     "text": [
      "f(1)➞ 2\n",
      "f(2)➞ 8\n",
      "f(3)➞ 2\n"
     ]
    }
   ],
   "source": [
    "def f(in_num):\n",
    "    output = [8,2]\n",
    "    print(f'f({in_num})➞ {output[in_num&1]}')\n",
    "    \n",
    "f(1)\n",
    "f(2)\n",
    "f(3)"
   ]
  },
  {
   "cell_type": "markdown",
   "id": "248a7e57",
   "metadata": {},
   "source": [
    "#### Question  2: Create a function that returns the majority vote in a list. A majority vote is an element that occurs > N/2 times in a list (where N is the length of the list)."
   ]
  },
  {
   "cell_type": "code",
   "execution_count": 2,
   "id": "63accd42",
   "metadata": {},
   "outputs": [
    {
     "name": "stdout",
     "output_type": "stream",
     "text": [
      "majority_vote(['A', 'A', 'B']) ➞ A\n",
      "majority_vote(['A', 'A', 'A', 'B', 'C', 'A']) ➞ A\n",
      "majority_vote(['A', 'B', 'B', 'A', 'C', 'C']) ➞ None\n"
     ]
    }
   ],
   "source": [
    "def majority_vote(lst):\n",
    "    l = None\n",
    "    for i in set(lst):\n",
    "        if lst.count(i) > (len(lst)/2):\n",
    "            l = i\n",
    "    print(f'majority_vote({lst}) ➞ {l}')\n",
    "majority_vote([\"A\", \"A\", \"B\"])\n",
    "majority_vote([\"A\", \"A\", \"A\", \"B\", \"C\", \"A\"])\n",
    "majority_vote([\"A\", \"B\", \"B\", \"A\", \"C\", \"C\"])"
   ]
  },
  {
   "cell_type": "markdown",
   "id": "95232bc4",
   "metadata": {},
   "source": [
    "#### Question  3: Create a function that takes a string txt and censors any word from a given list lst. The text removed must be replaced by the given character"
   ]
  },
  {
   "cell_type": "code",
   "execution_count": 3,
   "id": "2527bc05",
   "metadata": {},
   "outputs": [
    {
     "name": "stdout",
     "output_type": "stream",
     "text": [
      "censor_string(('Today is a Wednesday!', ['Today', 'a'], '-')) ➞ ----- is - Wednesday!\n",
      "censor_string(('The cow jumped over the moon.', ['cow', 'over'], '*')) ➞ The *** jumped **** the moon.\n",
      "censor_string(('Why did the chicken cross the road ?', ['Did', 'chicken', 'road'], '*')) ➞ Why did the ******* cross the **** ?\n"
     ]
    }
   ],
   "source": [
    "def censor_string(string,lst,char):\n",
    "    l=[]\n",
    "    for  i in string.split():\n",
    "        if i in lst:\n",
    "            l.append(char*len(i))\n",
    "        else:\n",
    "            l.append(i)\n",
    "    out=\" \".join(l)\n",
    "    print(f'censor_string({string,lst,char}) ➞ {out}')\n",
    "    \n",
    "    \n",
    "censor_string(\"Today is a Wednesday!\", [\"Today\", \"a\"], \"-\")\n",
    "censor_string(\"The cow jumped over the moon.\", [\"cow\", \"over\"], \"*\")\n",
    "censor_string(\"Why did the chicken cross the road ?\", [\"Did\", \"chicken\", \"road\"], \"*\")\n",
    "    "
   ]
  },
  {
   "cell_type": "markdown",
   "id": "26a1db6b",
   "metadata": {},
   "source": [
    "#### Question  4: In mathematics a Polydivisible Number (or magic number) is a number in a given number base with digits abcde... that has the following properties:\n",
    "Its first digit a is not 0.        \n",
    "The number formed by its first two digits ab is a multiple of 2.        \n",
    "The number formed by its first three digits abc is a multiple of 3.            \n",
    "The number formed by its first four digits abcd is a multiple of 4.          \n",
    "Create a function which takes an integer n and returns True if the given number is a Polydivisible Number and False otherwise."
   ]
  },
  {
   "cell_type": "code",
   "execution_count": 4,
   "id": "dd13e278",
   "metadata": {},
   "outputs": [
    {
     "name": "stdout",
     "output_type": "stream",
     "text": [
      "is_polydivisible(1232) ➞ True\n",
      "is_polydivisible(123220) ➞ False\n"
     ]
    }
   ],
   "source": [
    "def is_polydivisible(num):\n",
    "    output = False\n",
    "    temp = str(num)\n",
    "    for i in range(len(temp)):\n",
    "        if(int(temp[:i+1])%(i+1) == 0):\n",
    "            output = True\n",
    "        else:\n",
    "            output = False\n",
    "            break\n",
    "    print(f'is_polydivisible({num}) ➞ {output}')\n",
    "        \n",
    "is_polydivisible(1232)\n",
    "is_polydivisible(123220)"
   ]
  },
  {
   "cell_type": "markdown",
   "id": "f4183458",
   "metadata": {},
   "source": [
    "#### Question 5: Create a function that takes a list of numbers and returns the sum of all prime numbers in the list."
   ]
  },
  {
   "cell_type": "code",
   "execution_count": 5,
   "id": "8b7503c6",
   "metadata": {},
   "outputs": [
    {
     "name": "stdout",
     "output_type": "stream",
     "text": [
      "sum_prime ([1, 2, 3, 4, 5, 6, 7, 8, 9, 10])➞ 17\n",
      "sum_prime ([2, 3, 4, 11, 20, 50, 71])➞ 87\n",
      "sum_prime ([])➞ None\n"
     ]
    }
   ],
   "source": [
    "def sum_primes(lst):\n",
    "    def is_prime(num):\n",
    "        k=0\n",
    "        if num==1:\n",
    "            return False\n",
    "        else:\n",
    "            for i in range(2,num):\n",
    "                if num%i==0:\n",
    "                    k=1\n",
    "                    break\n",
    "            if k==1:\n",
    "                return False\n",
    "            else:\n",
    "                return True\n",
    "    result=0\n",
    "    for i in lst:\n",
    "        if is_prime(i)==True:\n",
    "            result+=i\n",
    "    print(f'sum_prime ({lst})➞ {result if len(lst)>0 else None}')\n",
    "    \n",
    "sum_primes([1, 2, 3, 4, 5, 6, 7, 8, 9, 10]) \n",
    "sum_primes([2, 3, 4, 11, 20, 50, 71])\n",
    "sum_primes([])\n",
    "        "
   ]
  }
 ],
 "metadata": {
  "kernelspec": {
   "display_name": "Python 3 (ipykernel)",
   "language": "python",
   "name": "python3"
  },
  "language_info": {
   "codemirror_mode": {
    "name": "ipython",
    "version": 3
   },
   "file_extension": ".py",
   "mimetype": "text/x-python",
   "name": "python",
   "nbconvert_exporter": "python",
   "pygments_lexer": "ipython3",
   "version": "3.9.7"
  }
 },
 "nbformat": 4,
 "nbformat_minor": 5
}
