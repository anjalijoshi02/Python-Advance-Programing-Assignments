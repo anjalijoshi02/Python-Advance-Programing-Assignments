{
 "cells": [
  {
   "cell_type": "markdown",
   "id": "5d6166b5",
   "metadata": {},
   "source": [
    "# Python Advance programming 04"
   ]
  },
  {
   "cell_type": "markdown",
   "id": "a6fdd7c2",
   "metadata": {},
   "source": [
    "#### Question 1: In mathematics, the Fibonacci numbers, commonly denoted Fn, form a sequence, called the Fibonacci sequence, such that each number is the sum of the two preceding ones, starting from 0 and 1:    \n",
    "The beginning of the sequence is this: 0, 1, 1, 2, 3, 5, 8, 13, 21, 34, 55, 89, 144, ...      \n",
    "The function fastFib(num) returns the fibonacci number Fn, of the given num as an argument."
   ]
  },
  {
   "cell_type": "code",
   "execution_count": 1,
   "id": "4b1f40d9",
   "metadata": {},
   "outputs": [
    {
     "name": "stdout",
     "output_type": "stream",
     "text": [
      "fast_fib(1) ➞ 5\n",
      "fast_fib(1) ➞ 55\n",
      "fast_fib(1) ➞ 6765\n",
      "fast_fib(1) ➞ 12586269025\n"
     ]
    }
   ],
   "source": [
    "def fast_fib(num):\n",
    "    a=0\n",
    "    b=1\n",
    "    while (num-1)>0:\n",
    "        temp=a+b\n",
    "        a=b\n",
    "        b=temp\n",
    "        num-=1\n",
    "    print(f'fast_fib({num}) ➞ {temp}')\n",
    "fast_fib(5)\n",
    "fast_fib(10)\n",
    "fast_fib(20)\n",
    "fast_fib(50)"
   ]
  },
  {
   "cell_type": "markdown",
   "id": "86cb4de5",
   "metadata": {},
   "source": [
    "#### Question 2: Create a function that takes a strings characters as ASCII and returns each characters hexadecimal value as a string.\n"
   ]
  },
  {
   "cell_type": "code",
   "execution_count": 2,
   "id": "97403ec3",
   "metadata": {},
   "outputs": [
    {
     "name": "stdout",
     "output_type": "stream",
     "text": [
      "convert_to_hex(hello world) ➞ 68 65 6c 6c 6f 20 77 6f 72 6c 64\n",
      "convert_to_hex(Big Boi) ➞ 42 69 67 20 42 6f 69\n",
      "convert_to_hex(Marty Poppinson) ➞ 4d 61 72 74 79 20 50 6f 70 70 69 6e 73 6f 6e\n"
     ]
    }
   ],
   "source": [
    "def convert_to_hex(string):\n",
    "    result = []\n",
    "    for i in string:\n",
    "        result.append(hex(ord(i))[2:])\n",
    "    result=\" \".join(result)\n",
    "    print(f'convert_to_hex({string}) ➞ {result}')\n",
    "\n",
    "convert_to_hex(\"hello world\")\n",
    "convert_to_hex(\"Big Boi\")\n",
    "convert_to_hex(\"Marty Poppinson\")"
   ]
  },
  {
   "cell_type": "markdown",
   "id": "8ed75141",
   "metadata": {},
   "source": [
    "#### Question 3:Someone has attempted to censor my strings by replacing every vowel with a *, l*k* th*s. Luckily, I've been able to find the vowels that were removed."
   ]
  },
  {
   "cell_type": "code",
   "execution_count": 3,
   "id": "d1373643",
   "metadata": {},
   "outputs": [
    {
     "name": "stdout",
     "output_type": "stream",
     "text": [
      "uncensor('Wh*r* d*d my v*w*ls g*?', 'eeioeo') ➞ Where did my vowels go?\n",
      "uncensor('abcd', '') ➞ abcd\n",
      "uncensor('*PP*RC*S*', 'UEAE') ➞ UPPERCASE\n"
     ]
    }
   ],
   "source": [
    "def uncensor(string,vowels):\n",
    "    temp = 0\n",
    "    result = ''\n",
    "    for i in string:\n",
    "        if i == '*':\n",
    "            result += vowels[temp]\n",
    "            temp+=1\n",
    "        else:\n",
    "            result += i\n",
    "    print(f'uncensor{string,vowels} ➞ {result}')\n",
    "\n",
    "uncensor(\"Wh*r* d*d my v*w*ls g*?\", \"eeioeo\")\n",
    "uncensor(\"abcd\", \"\")\n",
    "uncensor(\"*PP*RC*S*\", \"UEAE\")"
   ]
  },
  {
   "cell_type": "markdown",
   "id": "a347c502",
   "metadata": {},
   "source": [
    "#### Question 4: Write a function that takes an IP address and returns the domain name using PTR DNS records"
   ]
  },
  {
   "cell_type": "code",
   "execution_count": 4,
   "id": "ae9205ce",
   "metadata": {},
   "outputs": [
    {
     "name": "stdout",
     "output_type": "stream",
     "text": [
      "get_domain(8.8.8.8) ➞ ('dns.google', [], ['8.8.8.8']) ➞ dns.google\n",
      "get_domain(8.8.4.4) ➞ ('dns.google', [], ['8.8.4.4']) ➞ dns.google\n"
     ]
    }
   ],
   "source": [
    "import socket\n",
    "def get_domain(in_ip):\n",
    "    print(f'get_domain({in_ip}) ➞ {socket.gethostbyaddr(in_ip)} ➞ {socket.gethostbyaddr(in_ip)[0]}')\n",
    "    \n",
    "get_domain(\"8.8.8.8\")\n",
    "get_domain(\"8.8.4.4\")"
   ]
  },
  {
   "cell_type": "markdown",
   "id": "11aaaf75",
   "metadata": {},
   "source": [
    "#### Question 5: Create a function that takes an integer n and returns the factorial of factorials. See below examples for a better understanding:"
   ]
  },
  {
   "cell_type": "code",
   "execution_count": 5,
   "id": "8fd86de6",
   "metadata": {},
   "outputs": [
    {
     "name": "stdout",
     "output_type": "stream",
     "text": [
      "fact_of_fact(4) ➞ 288\n",
      "fact_of_fact(5) ➞ 34560\n",
      "fact_of_fact(6) ➞ 24883200\n"
     ]
    }
   ],
   "source": [
    "def fact_of_fact(num):\n",
    "    def fact(n):\n",
    "        if n == 1:\n",
    "            return 1\n",
    "        else:\n",
    "            return n*fact(n-1)      \n",
    "    result = 1\n",
    "    for i in range(1,num+1):\n",
    "        result *= fact(i)\n",
    "    print(f'fact_of_fact({num}) ➞ {result}')\n",
    "fact_of_fact(4)\n",
    "fact_of_fact(5)\n",
    "fact_of_fact(6)"
   ]
  },
  {
   "cell_type": "code",
   "execution_count": null,
   "id": "051355d7",
   "metadata": {},
   "outputs": [],
   "source": []
  }
 ],
 "metadata": {
  "kernelspec": {
   "display_name": "Python 3 (ipykernel)",
   "language": "python",
   "name": "python3"
  },
  "language_info": {
   "codemirror_mode": {
    "name": "ipython",
    "version": 3
   },
   "file_extension": ".py",
   "mimetype": "text/x-python",
   "name": "python",
   "nbconvert_exporter": "python",
   "pygments_lexer": "ipython3",
   "version": "3.9.7"
  }
 },
 "nbformat": 4,
 "nbformat_minor": 5
}
