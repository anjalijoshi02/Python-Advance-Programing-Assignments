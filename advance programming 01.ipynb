{
 "cells": [
  {
   "cell_type": "markdown",
   "id": "f38bd76f",
   "metadata": {},
   "source": [
    "# Python Advance programming-1"
   ]
  },
  {
   "cell_type": "markdown",
   "id": "16361dde",
   "metadata": {},
   "source": [
    "#### Question 1 : 1.Write a function that takes a list of lists and returns the value of all of the symbols in it, where each symbol adds or takes something from the total score. Symbol values:\n",
    "#### # = 5, O = 3, X = 1, ! = -1, !! = -3 !!! = -5"
   ]
  },
  {
   "cell_type": "code",
   "execution_count": 1,
   "id": "0184bd2b",
   "metadata": {},
   "outputs": [
    {
     "name": "stdout",
     "output_type": "stream",
     "text": [
      "check_score([['#', '!'], ['!!', 'X']]) ➞2\n",
      "check_score([['!!!', 'O', '!'], ['X', '#', '!!!'], ['!!', 'X', 'O']]) ➞0\n"
     ]
    }
   ],
   "source": [
    "def check_score(lst):\n",
    "    dictionary={'#':5,'O':3,'X':1,'!':-1,'!!':-3,'!!!':-5}\n",
    "    result=0\n",
    "    for i in lst:\n",
    "        for j in i:\n",
    "            result+=dictionary[j]\n",
    "    if result <0:\n",
    "        print(f'check_score({lst}) ➞0')\n",
    "    else:\n",
    "        print(f'check_score({lst}) ➞{result}')\n",
    "\n",
    "check_score([[\"#\", \"!\"],[\"!!\", \"X\"]])\n",
    "check_score([[\"!!!\", \"O\", \"!\"],[\"X\", \"#\", \"!!!\"],[\"!!\", \"X\", \"O\"]])\n",
    "        "
   ]
  },
  {
   "cell_type": "markdown",
   "id": "2455a584",
   "metadata": {},
   "source": [
    "#### Question 2: Create a function that takes a variable number of arguments, each argument representing the number of items in a group, and returns the number of permutations (combinations) of items that you could get by taking one item from each group."
   ]
  },
  {
   "cell_type": "code",
   "execution_count": 2,
   "id": "eee2e2ed",
   "metadata": {},
   "outputs": [
    {
     "name": "stdout",
     "output_type": "stream",
     "text": [
      "combinations(2, 3) ➞ 6\n",
      "combinations(3, 7, 4) ➞ 84\n",
      "combinations(2, 3, 4, 5) ➞ 120\n"
     ]
    }
   ],
   "source": [
    "def combinations(*args):\n",
    "    result = 1\n",
    "    for i in args:\n",
    "        result *=i\n",
    "    print(f'combinations{args} ➞ {result}')\n",
    "\n",
    "combinations(2, 3)\n",
    "combinations(3, 7, 4)\n",
    "combinations(2, 3, 4, 5)"
   ]
  },
  {
   "cell_type": "markdown",
   "id": "ee73915f",
   "metadata": {},
   "source": [
    "#### Question 3:Create a function that takes a string as an argument and returns the Morse code equivalent."
   ]
  },
  {
   "cell_type": "code",
   "execution_count": 3,
   "id": "dd01ffc1",
   "metadata": {},
   "outputs": [
    {
     "name": "stdout",
     "output_type": "stream",
     "text": [
      "encode_morse(EDABBIT CHALLENGE) ➞ .-...--...-.....- -.-......-.-...-...-.--..\n",
      "encode_morse(HELP ME !) ➞ ......-...--. --. -.-.--\n"
     ]
    }
   ],
   "source": [
    "def encode_morse(string):\n",
    "    result=''\n",
    "    dict_code={\n",
    "            'A': '.-', 'B': '-...', 'C': '-.-.', 'D': '-..', 'E': '.', 'F': '..-.',\n",
    "            'G': '--.', 'H': '....', 'I': '..', 'J': '.---', 'K': '-.-', 'L': '.-..',\n",
    "            'M': '--', 'N': '-.', 'O': '---', 'P': '.--.', 'Q': '--.-', 'R': '.-.',\n",
    "            'S': '...', 'T': '-', 'U': '..-', 'V': '...-', 'W': '.--', 'X': '-..-',\n",
    "            'Y': '-.--', 'Z': '--..', ' ': ' ', '0': '-----',\n",
    "            '1': '.----', '2': '..---', '3': '...--', '4': '....-', '5': '.....',\n",
    "            '6': '-....', '7': '--...', '8': '---..', '9': '----.',\n",
    "            '&': '.-...', \"'\": '.----.', '@': '.--.-.', ')': '-.--.-', '(': '-.--.',\n",
    "            ':': '---...', ',': '--..--', '=': '-...-', '!': '-.-.--', '.': '.-.-.-',\n",
    "            '-': '-....-', '+': '.-.-.', '\"': '.-..-.', '?': '..--..', '/': '-..-.'}\n",
    "    for i in string:\n",
    "        result+=dict_code[i]\n",
    "    \n",
    "    print(f'encode_morse({string}) ➞ {result}')\n",
    "encode_morse(\"EDABBIT CHALLENGE\")\n",
    "encode_morse(\"HELP ME !\")\n",
    "    "
   ]
  },
  {
   "cell_type": "markdown",
   "id": "de9c405b",
   "metadata": {},
   "source": [
    "#### Question 4:Write a function that takes a number and returns True if it's a prime; False otherwise. The number can be 2^64-1 (2 to the power of 63, not XOR). With the standard technique it would be O(2^64-1), which is much too large for the 10 second time limit.\n"
   ]
  },
  {
   "cell_type": "code",
   "execution_count": 4,
   "id": "c76b038c",
   "metadata": {},
   "outputs": [
    {
     "name": "stdout",
     "output_type": "stream",
     "text": [
      "prime(7) ➞ True\n",
      "prime(56963) ➞ True\n",
      "prime(5151512515524) ➞ False\n"
     ]
    }
   ],
   "source": [
    "def prime(num):\n",
    "    result = False\n",
    "    if ((num-1)%6 == 0) or ((num+1)%6 == 0):\n",
    "        result = True\n",
    "    print(f'prime({num}) ➞ {result}')\n",
    "\n",
    "prime(7)\n",
    "prime(56963)\n",
    "prime(5151512515524)"
   ]
  },
  {
   "cell_type": "markdown",
   "id": "3c79d7d7",
   "metadata": {},
   "source": [
    "#### Question 5:Create a function that converts a word to a bitstring and then to a boolean list based on the following criteria:\n",
    "1. Locate the position of the letter in the English alphabet (from 1 to 26).\n",
    "2. Odd positions will be represented as 1 and 0 otherwise.\n",
    "3. Convert the represented positions to boolean values, 1 for True and 0 for False.\n",
    "4. Store the conversions into an array."
   ]
  },
  {
   "cell_type": "code",
   "execution_count": 5,
   "id": "d5ec19cf",
   "metadata": {},
   "outputs": [
    {
     "name": "stdout",
     "output_type": "stream",
     "text": [
      "to_boolean_list(deep) ➞ [False, True, True, False]\n",
      "to_boolean_list(loves) ➞ [False, True, False, True, True]\n",
      "to_boolean_list(tesh) ➞ [False, True, True, False]\n"
     ]
    }
   ],
   "source": [
    "def to_boolean_list(string):\n",
    "    alphabets = 'abcdefghijklmnopqrstuvwxyz'\n",
    "    l = []\n",
    "    for i in string:\n",
    "        l.append(bool((alphabets.index(i)+1)%2))\n",
    "    print(f'to_boolean_list({string}) ➞ {l}')\n",
    "    \n",
    "to_boolean_list(\"deep\")\n",
    "to_boolean_list(\"loves\")\n",
    "to_boolean_list(\"tesh\")\n"
   ]
  },
  {
   "cell_type": "code",
   "execution_count": null,
   "id": "d1cfaa61",
   "metadata": {},
   "outputs": [],
   "source": []
  }
 ],
 "metadata": {
  "kernelspec": {
   "display_name": "Python 3 (ipykernel)",
   "language": "python",
   "name": "python3"
  },
  "language_info": {
   "codemirror_mode": {
    "name": "ipython",
    "version": 3
   },
   "file_extension": ".py",
   "mimetype": "text/x-python",
   "name": "python",
   "nbconvert_exporter": "python",
   "pygments_lexer": "ipython3",
   "version": "3.9.7"
  }
 },
 "nbformat": 4,
 "nbformat_minor": 5
}
